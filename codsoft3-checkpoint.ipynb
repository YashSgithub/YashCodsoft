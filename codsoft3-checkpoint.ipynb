{
 "cells": [
  {
   "cell_type": "code",
   "execution_count": 3,
   "id": "5984ac49",
   "metadata": {},
   "outputs": [
    {
     "name": "stdout",
     "output_type": "stream",
     "text": [
      "Enter the desired password length: 9\n",
      "Choose complexity (l for low, m for medium, h for high): h\n",
      "Generated Password: 3lV)8v>1+\n"
     ]
    }
   ],
   "source": [
    "import random\n",
    "import string\n",
    "\n",
    "def generate_password(length):\n",
    "    \n",
    "    lowercase_letters = string.ascii_lowercase\n",
    "    uppercase_letters = string.ascii_uppercase\n",
    "    digits = string.digits\n",
    "    special_characters = \"!@#$%^&*()_-+=<>?\"\n",
    "\n",
    "    \n",
    "    if length < 8:\n",
    "        print(\"Password length should be at least 8 characters for security.\")\n",
    "        return\n",
    "\n",
    "    complexity = input(\"Choose complexity (l for low, m for medium, h for high): \").lower()\n",
    "    if complexity == 'l':\n",
    "        character_set = lowercase_letters + digits\n",
    "    elif complexity == 'm':\n",
    "        character_set = lowercase_letters + uppercase_letters + digits\n",
    "    elif complexity == 'h':\n",
    "        character_set = lowercase_letters + uppercase_letters + digits + special_characters\n",
    "    else:\n",
    "        print(\"Invalid complexity choice.\")\n",
    "        return\n",
    "\n",
    "    \n",
    "    password = ''.join(random.choice(character_set) for _ in range(length))\n",
    "    return password\n",
    "\n",
    "if __name__ == \"__main__\":\n",
    "    try:\n",
    "        length = int(input(\"Enter the desired password length: \"))\n",
    "        password = generate_password(length)\n",
    "        if password:\n",
    "            print(f\"Generated Password: {password}\")\n",
    "    except ValueError:\n",
    "        print(\"Invalid input. Please enter a valid password length (an integer).\")\n"
   ]
  },
  {
   "cell_type": "code",
   "execution_count": null,
   "id": "66fe9b45",
   "metadata": {},
   "outputs": [],
   "source": []
  }
 ],
 "metadata": {
  "kernelspec": {
   "display_name": "Python 3 (ipykernel)",
   "language": "python",
   "name": "python3"
  },
  "language_info": {
   "codemirror_mode": {
    "name": "ipython",
    "version": 3
   },
   "file_extension": ".py",
   "mimetype": "text/x-python",
   "name": "python",
   "nbconvert_exporter": "python",
   "pygments_lexer": "ipython3",
   "version": "3.9.13"
  }
 },
 "nbformat": 4,
 "nbformat_minor": 5
}
